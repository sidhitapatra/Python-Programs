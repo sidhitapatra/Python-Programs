{
 "cells": [
  {
   "cell_type": "code",
   "execution_count": 3,
   "metadata": {},
   "outputs": [],
   "source": [
    "#Step 1: Write a function that can print out a board. Set up your board as a list, where each index 1-9 corresponds with a \n",
    "#number on a number pad, so you get a 3 by 3 board representation.\n",
    "def display_board(board):\n",
    "    print(board[1]+' | '+board[2]+' | '+board[3])\n",
    "    print('---------')\n",
    "    print(board[4]+' | '+board[5]+' | '+board[6])\n",
    "    print('---------')\n",
    "    print(board[7]+' | '+board[8]+' | '+board[9])"
   ]
  },
  {
   "cell_type": "code",
   "execution_count": 4,
   "metadata": {},
   "outputs": [
    {
     "name": "stdout",
     "output_type": "stream",
     "text": [
      "  |   |  \n",
      "---------\n",
      "  |   |  \n",
      "---------\n",
      "  |   |  \n"
     ]
    }
   ],
   "source": [
    "board = [' ']*10\n",
    "display_board(board)"
   ]
  },
  {
   "cell_type": "code",
   "execution_count": 5,
   "metadata": {},
   "outputs": [],
   "source": [
    "from IPython.display import clear_output"
   ]
  },
  {
   "cell_type": "code",
   "execution_count": 6,
   "metadata": {},
   "outputs": [],
   "source": [
    "#Step 2: Write a function that can take in a player input and assign their marker as 'X' or 'O'. Think about using while loops \n",
    "#to continually ask until you get a correct answer.\n",
    "def player_input():\n",
    "    inp=input('Please select your input from X or O :')\n",
    "    while inp not in ('X','O'):\n",
    "        inp=input('Please select your input from X or O :')\n",
    "        continue\n",
    "    return inp"
   ]
  },
  {
   "cell_type": "code",
   "execution_count": 7,
   "metadata": {},
   "outputs": [
    {
     "name": "stdout",
     "output_type": "stream",
     "text": [
      "Please select your input from X or O :X\n"
     ]
    },
    {
     "data": {
      "text/plain": [
       "'X'"
      ]
     },
     "execution_count": 7,
     "metadata": {},
     "output_type": "execute_result"
    }
   ],
   "source": [
    "player_input()"
   ]
  },
  {
   "cell_type": "code",
   "execution_count": 8,
   "metadata": {},
   "outputs": [],
   "source": [
    "#Step 3: Write a function that takes in the board list object, a marker ('X' or 'O'), and a desired position (number 1-9) \n",
    "#and assigns it to the board.\n",
    "def place_marker(board, marker, position):\n",
    "    board[position]=marker    "
   ]
  },
  {
   "cell_type": "code",
   "execution_count": 9,
   "metadata": {},
   "outputs": [
    {
     "name": "stdout",
     "output_type": "stream",
     "text": [
      "  |   |  \n",
      "---------\n",
      "  |   |  \n",
      "---------\n",
      "  | $ |  \n"
     ]
    }
   ],
   "source": [
    "board = [' ']*10\n",
    "place_marker(board,'$',8)\n",
    "display_board(board)"
   ]
  },
  {
   "cell_type": "code",
   "execution_count": 10,
   "metadata": {},
   "outputs": [],
   "source": [
    "#Step 4: Write a function that takes in a board and a mark (X or O) and then checks to see if that mark has won.\n",
    "def win_check(board, mark):\n",
    "    if (board[1] == board[2] == board[3] == mark):\n",
    "        return True\n",
    "    elif (board[4] == board[5] == board[6] == mark):\n",
    "        return True\n",
    "    elif (board[7] == board[8] == board[9] == mark):\n",
    "        return True\n",
    "    elif (board[1] == board[4] == board[7] == mark):\n",
    "        return True\n",
    "    elif (board[2] == board[5] == board[8] == mark):\n",
    "        return True\n",
    "    elif (board[3] == board[6] == board[9] == mark):\n",
    "        return True\n",
    "    elif (board[1] == board[5] == board[9] == mark):\n",
    "        return True\n",
    "    elif (board[3] == board[5] == board[7] == mark):\n",
    "        return True\n",
    "    else:\n",
    "        return False"
   ]
  },
  {
   "cell_type": "code",
   "execution_count": 11,
   "metadata": {},
   "outputs": [
    {
     "name": "stdout",
     "output_type": "stream",
     "text": [
      "O | X | X\n",
      "---------\n",
      "O | O | O\n",
      "---------\n",
      "O | X | O\n"
     ]
    },
    {
     "data": {
      "text/plain": [
       "False"
      ]
     },
     "execution_count": 11,
     "metadata": {},
     "output_type": "execute_result"
    }
   ],
   "source": [
    "board = ['X','O','X','X','O','O','O','O','X','O']\n",
    "display_board(board)\n",
    "win_check(board, 'X')"
   ]
  },
  {
   "cell_type": "code",
   "execution_count": 12,
   "metadata": {},
   "outputs": [],
   "source": [
    "import random"
   ]
  },
  {
   "cell_type": "code",
   "execution_count": 13,
   "metadata": {},
   "outputs": [],
   "source": [
    "#Step 5: Write a function that uses the random module to randomly decide which player goes first. \n",
    "#You may want to lookup random.randint() Return a string of which player went first.\n",
    "def choose_first():\n",
    "    player = random.randint(1,2)\n",
    "    print('Player {} goes first'.format(player))\n",
    "    return player"
   ]
  },
  {
   "cell_type": "code",
   "execution_count": 14,
   "metadata": {},
   "outputs": [
    {
     "name": "stdout",
     "output_type": "stream",
     "text": [
      "Player 1 goes first\n"
     ]
    },
    {
     "data": {
      "text/plain": [
       "1"
      ]
     },
     "execution_count": 14,
     "metadata": {},
     "output_type": "execute_result"
    }
   ],
   "source": [
    "choose_first()"
   ]
  },
  {
   "cell_type": "code",
   "execution_count": 15,
   "metadata": {},
   "outputs": [],
   "source": [
    "#Step 6: Write a function that returns a boolean indicating whether a space on the board is freely available.\n",
    "def space_check(board, position):\n",
    "    return board[int(position)] == ''"
   ]
  },
  {
   "cell_type": "code",
   "execution_count": 16,
   "metadata": {},
   "outputs": [
    {
     "data": {
      "text/plain": [
       "True"
      ]
     },
     "execution_count": 16,
     "metadata": {},
     "output_type": "execute_result"
    }
   ],
   "source": [
    "board = ['X', 'O', 'X', 'X', '', 'O', 'O', 'X', 'X']\n",
    "space_check(board, 4)"
   ]
  },
  {
   "cell_type": "code",
   "execution_count": 17,
   "metadata": {},
   "outputs": [],
   "source": [
    "#Step 7: Write a function that checks if the board is full and returns a boolean value. True if full, False otherwise.\n",
    "def full_board_check(board):\n",
    "    for x in board:\n",
    "        if x=='':\n",
    "            return False\n",
    "    return True"
   ]
  },
  {
   "cell_type": "code",
   "execution_count": 18,
   "metadata": {},
   "outputs": [
    {
     "data": {
      "text/plain": [
       "True"
      ]
     },
     "execution_count": 18,
     "metadata": {},
     "output_type": "execute_result"
    }
   ],
   "source": [
    "board = ['X', 'O', 'X', 'X', 'X', 'O', 'O', 'X', 'X']\n",
    "full_board_check(board)"
   ]
  },
  {
   "cell_type": "code",
   "execution_count": 19,
   "metadata": {},
   "outputs": [],
   "source": [
    "#Step 8: Write a function that asks for a player's next position (as a number 1-9) and then uses the function from step 6 \n",
    "#to check if it's a free position. If it is, then return the position for later use.\n",
    "def player_choice(board):\n",
    "    pos = int(input('Enter your position from 1 to 9 : '))\n",
    "    if space_check(board, pos):\n",
    "        return pos\n",
    "    return 0"
   ]
  },
  {
   "cell_type": "code",
   "execution_count": 20,
   "metadata": {},
   "outputs": [
    {
     "name": "stdout",
     "output_type": "stream",
     "text": [
      "Enter your position from 1 to 9 : 5\n"
     ]
    },
    {
     "data": {
      "text/plain": [
       "0"
      ]
     },
     "execution_count": 20,
     "metadata": {},
     "output_type": "execute_result"
    }
   ],
   "source": [
    "board = ['X', 'O', 'X', 'X', '', 'O', 'O', 'X', 'X','O']\n",
    "player_choice(board)"
   ]
  },
  {
   "cell_type": "code",
   "execution_count": 21,
   "metadata": {},
   "outputs": [],
   "source": [
    "#Step 9: Write a function that asks the player if they want to play again and returns a boolean True if they do want \n",
    "#to play again.\n",
    "def replay():\n",
    "    reply = input('Do you want to play again (Yes/No) : ')\n",
    "    if reply.upper() == 'YES':\n",
    "        return True\n",
    "    else:\n",
    "        return False"
   ]
  },
  {
   "cell_type": "code",
   "execution_count": 22,
   "metadata": {},
   "outputs": [
    {
     "name": "stdout",
     "output_type": "stream",
     "text": [
      "Do you want to play again (Yes/No) : no\n"
     ]
    },
    {
     "data": {
      "text/plain": [
       "False"
      ]
     },
     "execution_count": 22,
     "metadata": {},
     "output_type": "execute_result"
    }
   ],
   "source": [
    "replay()"
   ]
  },
  {
   "cell_type": "code",
   "execution_count": 25,
   "metadata": {},
   "outputs": [],
   "source": [
    "#Tic Tac Toe Game\n",
    "\n",
    "def tic_tac_toe():\n",
    "    clear_output()\n",
    "    print('Welcome to Tic Tac Toe!')\n",
    "    board = ['']*10\n",
    "    p1 = choose_first()\n",
    "    display_board(board)\n",
    "    p1inp=player_input()\n",
    "    if p1inp == 'X':\n",
    "        p2inp = 'O'\n",
    "    elif p1inp == 'O':\n",
    "        p2inp = 'X'\n",
    "    cnt = 0\n",
    "    while not full_board_check(board):\n",
    "        if cnt%2 ==0:\n",
    "            place_marker(board,p1inp,player_choice(board))\n",
    "            if win_check(board, p1inp):\n",
    "                pyr = 'Player 1'\n",
    "                clear_output()\n",
    "                display_board(board)\n",
    "                break\n",
    "        else:\n",
    "            place_marker(board,p2inp,player_choice(board))\n",
    "            if win_check(board, p2inp):\n",
    "                pyr = 'Player 2'\n",
    "                clear_output()\n",
    "                display_board(board)\n",
    "                break\n",
    "        clear_output()\n",
    "        display_board(board)\n",
    "        cnt += 1\n",
    "        if cnt == 9:\n",
    "            break\n",
    "    if replay():\n",
    "        tic_tac_toe()"
   ]
  },
  {
   "cell_type": "code",
   "execution_count": 26,
   "metadata": {},
   "outputs": [
    {
     "name": "stdout",
     "output_type": "stream",
     "text": [
      " |  | X\n",
      "---------\n",
      " | X | O\n",
      "---------\n",
      "X |  | O\n",
      "Do you want to play again (Yes/No) : no\n"
     ]
    }
   ],
   "source": [
    "tic_tac_toe()"
   ]
  },
  {
   "cell_type": "code",
   "execution_count": null,
   "metadata": {},
   "outputs": [],
   "source": []
  },
  {
   "cell_type": "code",
   "execution_count": null,
   "metadata": {},
   "outputs": [],
   "source": []
  },
  {
   "cell_type": "code",
   "execution_count": null,
   "metadata": {},
   "outputs": [],
   "source": []
  }
 ],
 "metadata": {
  "kernelspec": {
   "display_name": "Python 3",
   "language": "python",
   "name": "python3"
  },
  "language_info": {
   "codemirror_mode": {
    "name": "ipython",
    "version": 3
   },
   "file_extension": ".py",
   "mimetype": "text/x-python",
   "name": "python",
   "nbconvert_exporter": "python",
   "pygments_lexer": "ipython3",
   "version": "3.7.3"
  }
 },
 "nbformat": 4,
 "nbformat_minor": 2
}
