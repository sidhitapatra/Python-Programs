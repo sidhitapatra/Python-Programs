{
 "cells": [
  {
   "cell_type": "code",
   "execution_count": 3,
   "metadata": {},
   "outputs": [
    {
     "name": "stdout",
     "output_type": "stream",
     "text": [
      "Error in execution\n"
     ]
    }
   ],
   "source": [
    "#Problem 1\n",
    "#Handle the exception thrown by the code below by using try and except blocks.\n",
    "#Solution 1:\n",
    "try:\n",
    "    for i in ['a','b','c']:\n",
    "        print(i**2)\n",
    "except:\n",
    "    print(\"Error in execution\")"
   ]
  },
  {
   "cell_type": "code",
   "execution_count": 4,
   "metadata": {},
   "outputs": [
    {
     "name": "stdout",
     "output_type": "stream",
     "text": [
      "Error in calculation\n"
     ]
    }
   ],
   "source": [
    "#Solution 2:\n",
    "try:\n",
    "    for i in ['a','b','c']:\n",
    "        print(i**2)\n",
    "except TypeError:\n",
    "    print(\"Error in calculation\")"
   ]
  },
  {
   "cell_type": "code",
   "execution_count": 5,
   "metadata": {},
   "outputs": [
    {
     "name": "stdout",
     "output_type": "stream",
     "text": [
      "Division by zero not allowed\n",
      "All Done\n"
     ]
    }
   ],
   "source": [
    "#Problem 2\n",
    "#Handle the exception thrown by the code below by using try and except blocks. Then use a finally block to print 'All Done.'\n",
    "#Solution:\n",
    "try:\n",
    "    x=5\n",
    "    y=0\n",
    "    z=x/y\n",
    "except ZeroDivisionError:\n",
    "    print('Division by zero not allowed')\n",
    "finally:\n",
    "    print('All Done')"
   ]
  },
  {
   "cell_type": "code",
   "execution_count": 6,
   "metadata": {},
   "outputs": [],
   "source": [
    "#Problem 3\n",
    "#Write a function that asks for an integer and prints the square of it. Use a while loop with a try, except, \n",
    "#else block to account for incorrect inputs.\n",
    "def ask():\n",
    "    while True:\n",
    "        try:\n",
    "            res = int(input('Please enter a number'))\n",
    "            sqr = res**2\n",
    "            print('square of the input is {}'.format(sqr))\n",
    "        except:\n",
    "            print('Invalid Number')\n",
    "            continue\n",
    "        else:\n",
    "            print('Calculation done!!')\n",
    "            break\n"
   ]
  },
  {
   "cell_type": "code",
   "execution_count": 7,
   "metadata": {},
   "outputs": [
    {
     "name": "stdout",
     "output_type": "stream",
     "text": [
      "Please enter a numbersdc\n",
      "Invalid Number\n",
      "Please enter a numbersad\n",
      "Invalid Number\n",
      "Please enter a number23qwd\n",
      "Invalid Number\n",
      "Please enter a number3\n",
      "square of the input is 9\n",
      "Calculation done!!\n"
     ]
    }
   ],
   "source": [
    "ask()"
   ]
  },
  {
   "cell_type": "code",
   "execution_count": null,
   "metadata": {},
   "outputs": [],
   "source": []
  }
 ],
 "metadata": {
  "kernelspec": {
   "display_name": "Python 3",
   "language": "python",
   "name": "python3"
  },
  "language_info": {
   "codemirror_mode": {
    "name": "ipython",
    "version": 3
   },
   "file_extension": ".py",
   "mimetype": "text/x-python",
   "name": "python",
   "nbconvert_exporter": "python",
   "pygments_lexer": "ipython3",
   "version": "3.6.7"
  }
 },
 "nbformat": 4,
 "nbformat_minor": 2
}
